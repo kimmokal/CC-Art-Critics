{
 "cells": [
  {
   "cell_type": "code",
   "execution_count": 1,
   "metadata": {},
   "outputs": [],
   "source": [
    "%load_ext autoreload\n",
    "%autoreload 2"
   ]
  },
  {
   "cell_type": "code",
   "execution_count": 2,
   "metadata": {},
   "outputs": [],
   "source": [
    "import torch\n",
    "import numpy as np\n",
    "import torchvision\n",
    "import matplotlib.pyplot as plt\n",
    "from feedback_prediction_dataset import FeedbackDataset\n",
    "from train import train\n",
    "from image_regressor_model import ImageRegressor"
   ]
  },
  {
   "cell_type": "code",
   "execution_count": 3,
   "metadata": {},
   "outputs": [
    {
     "name": "stderr",
     "output_type": "stream",
     "text": [
      "/home/local/kimmokal/ArtCritics/CC-Art-Critics/venv/lib/python3.8/site-packages/torch/cuda/__init__.py:52: UserWarning: CUDA initialization: Found no NVIDIA driver on your system. Please check that you have an NVIDIA GPU and installed a driver from http://www.nvidia.com/Download/index.aspx (Triggered internally at  /pytorch/c10/cuda/CUDAFunctions.cpp:100.)\n",
      "  return torch._C._cuda_getDeviceCount() > 0\n"
     ]
    }
   ],
   "source": [
    "if torch.cuda.is_available():\n",
    "    device = torch.device(\"cuda\")\n",
    "else:\n",
    "    device = torch.device(\"cpu\")"
   ]
  },
  {
   "cell_type": "code",
   "execution_count": 4,
   "metadata": {},
   "outputs": [
    {
     "name": "stdout",
     "output_type": "stream",
     "text": [
      "Number of parameters: 1244545\n"
     ]
    }
   ],
   "source": [
    "torch.cuda.empty_cache()\n",
    "model = ImageRegressor(5).to(device)\n",
    "torch.cuda.empty_cache()\n",
    "print(\"Number of parameters:\", model.getNumberOfParameters())"
   ]
  },
  {
   "cell_type": "code",
   "execution_count": 5,
   "metadata": {},
   "outputs": [],
   "source": [
    "dataset = FeedbackDataset()\n",
    "optimizer = torch.optim.Adam(model.parameters(), lr=0.0001)"
   ]
  },
  {
   "cell_type": "code",
   "execution_count": 6,
   "metadata": {},
   "outputs": [],
   "source": [
    "def loss(prediction, label):\n",
    "    return torch.sum(torch.pow(prediction-label, 2))"
   ]
  },
  {
   "cell_type": "code",
   "execution_count": null,
   "metadata": {},
   "outputs": [
    {
     "name": "stdout",
     "output_type": "stream",
     "text": [
      "Epoch 1/15\n",
      "----------\n",
      "\n",
      "Progress: 100%\n",
      "\n",
      "Loss: 0.3940 Accuracy: 0.0000 Duration: 2m 11s\n",
      "\n",
      "Epoch 2/15\n",
      "----------\n",
      "\n",
      "Progress: 100%\n",
      "\n",
      "Loss: 0.3343 Accuracy: 0.0000 Duration: 1m 57s\n",
      "\n",
      "Epoch 3/15\n",
      "----------\n",
      "\n",
      "Progress: 100%\n",
      "\n",
      "Loss: 0.3289 Accuracy: 0.0000 Duration: 1m 56s\n",
      "\n",
      "Epoch 4/15\n",
      "----------\n",
      "\n",
      "Progress: 60%"
     ]
    }
   ],
   "source": [
    "model = train(model, optimizer, loss, dataset, device, epochs=15, batchSize=16, countAccuracy=False)"
   ]
  },
  {
   "cell_type": "code",
   "execution_count": null,
   "metadata": {},
   "outputs": [],
   "source": [
    "torch.save(model, 'trained_models/feedback_predictor.pkl')"
   ]
  },
  {
   "cell_type": "code",
   "execution_count": null,
   "metadata": {},
   "outputs": [],
   "source": [
    "randomSample = dataset[np.random.randint(len(dataset))]\n",
    "pilImage = torchvision.transforms.ToPILImage()(randomSample[0])\n",
    "plt.imshow(pilImage)\n",
    "plt.show()\n",
    "\n",
    "model.eval()\n",
    "prediction = model(torch.unsqueeze(randomSample[0], dim=0).to(device)).item()\n",
    "model.train()\n",
    "print(\"Predicted to have feedback of {:.2f}\".format(prediction))"
   ]
  }
 ],
 "metadata": {
  "kernelspec": {
   "display_name": "Python 3",
   "language": "python",
   "name": "python3"
  },
  "language_info": {
   "codemirror_mode": {
    "name": "ipython",
    "version": 3
   },
   "file_extension": ".py",
   "mimetype": "text/x-python",
   "name": "python",
   "nbconvert_exporter": "python",
   "pygments_lexer": "ipython3",
   "version": "3.8.3"
  }
 },
 "nbformat": 4,
 "nbformat_minor": 4
}
