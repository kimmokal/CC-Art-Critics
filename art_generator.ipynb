{
 "cells": [
  {
   "cell_type": "code",
   "execution_count": null,
   "metadata": {},
   "outputs": [],
   "source": [
    "%load_ext autoreload\n",
    "%autoreload 2"
   ]
  },
  {
   "cell_type": "code",
   "execution_count": null,
   "metadata": {},
   "outputs": [],
   "source": [
    "import torch\n",
    "import matplotlib.pyplot as plt\n",
    "from input_noise_dataset import NoiseDataset\n",
    "import torchvision\n",
    "from pytorch_pretrained_biggan import BigGAN\n",
    "from os import listdir, path\n",
    "import gc\n",
    "import string\n",
    "import random"
   ]
  },
  {
   "cell_type": "code",
   "execution_count": null,
   "metadata": {},
   "outputs": [],
   "source": [
    "device = torch.device(\"cpu\")"
   ]
  },
  {
   "cell_type": "code",
   "execution_count": null,
   "metadata": {},
   "outputs": [],
   "source": [
    "dataset = NoiseDataset()"
   ]
  },
  {
   "cell_type": "code",
   "execution_count": null,
   "metadata": {},
   "outputs": [],
   "source": [
    "biggan = BigGAN.from_pretrained('biggan-deep-512').to(device)\n",
    "inputTransformer = torch.load(\"trained_models/input_transformer.pkl\", map_location=torch.device('cpu')).to(device)\n",
    "discriminator = torch.load(\"trained_models/abstract_image_discriminator.pkl\", map_location=torch.device('cpu')).to(device)\n",
    "feedbackPredictor = torch.load(\"trained_models/feedback_predictor.pkl\", map_location=torch.device('cpu')).to(device)\n",
    "torch.cuda.empty_cache()"
   ]
  },
  {
   "cell_type": "code",
   "execution_count": null,
   "metadata": {},
   "outputs": [],
   "source": [
    "numberOfImagesToGenerate = 10\n",
    "generatedImagesDir = \"image_data/generated\"\n",
    "letters = string.ascii_letters\n",
    "\n",
    "for i in range(numberOfImagesToGenerate):\n",
    "    initialInput = dataset[0][0].to(device)\n",
    "    transformedInput = inputTransformer(initialInput)\n",
    "    generatedImage = biggan(transformedInput[0], transformedInput[1], 0.99)\n",
    "    isAbstract = discriminator(generatedImage).item()\n",
    "    feedback = feedbackPredictor(generatedImage).item()\n",
    "    pilImage = torchvision.transforms.ToPILImage()(torch.squeeze(generatedImage, dim=0))\n",
    "    randomString = ''.join(random.choice(letters) for i in range(30))\n",
    "    pilImage.save(path.join(generatedImagesDir, \"generated_image_{}.jpg\".format(randomString))) \n",
    "    del generatedImage\n",
    "    gc.collect()\n",
    "    torch.cuda.empty_cache()\n",
    "    plt.imshow(pilImage)\n",
    "    plt.show()\n",
    "\n",
    "    print(\"Abstractness: {:.2f}\".format(isAbstract))\n",
    "    print(\"Feedback: {:.2f}\".format(feedback))\n",
    "    print()"
   ]
  }
 ],
 "metadata": {
  "kernelspec": {
   "display_name": "Python 3",
   "language": "python",
   "name": "python3"
  },
  "language_info": {
   "codemirror_mode": {
    "name": "ipython",
    "version": 3
   },
   "file_extension": ".py",
   "mimetype": "text/x-python",
   "name": "python",
   "nbconvert_exporter": "python",
   "pygments_lexer": "ipython3",
   "version": "3.8.3"
  }
 },
 "nbformat": 4,
 "nbformat_minor": 4
}
