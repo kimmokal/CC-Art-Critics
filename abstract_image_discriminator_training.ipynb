{
 "cells": [
  {
   "cell_type": "code",
   "execution_count": null,
   "metadata": {},
   "outputs": [],
   "source": [
    "%load_ext autoreload\n",
    "%autoreload 2"
   ]
  },
  {
   "cell_type": "code",
   "execution_count": null,
   "metadata": {},
   "outputs": [],
   "source": [
    "import torch\n",
    "import numpy as np\n",
    "import torchvision\n",
    "import matplotlib.pyplot as plt\n",
    "from discriminator_dataset import DiscriminatorDataset\n",
    "from train import train\n",
    "from image_regressor_model import ImageRegressor"
   ]
  },
  {
   "cell_type": "code",
   "execution_count": null,
   "metadata": {},
   "outputs": [],
   "source": [
    "if torch.cuda.is_available():\n",
    "    device = torch.device(\"cuda\")\n",
    "else:\n",
    "    device = torch.device(\"cpu\")"
   ]
  },
  {
   "cell_type": "code",
   "execution_count": null,
   "metadata": {},
   "outputs": [],
   "source": [
    "torch.cuda.empty_cache()\n",
    "model = ImageRegressor(1).to(device)\n",
    "torch.cuda.empty_cache()\n",
    "print(\"Number of parameters:\", model.getNumberOfParameters())"
   ]
  },
  {
   "cell_type": "code",
   "execution_count": null,
   "metadata": {},
   "outputs": [],
   "source": [
    "dataset = DiscriminatorDataset()\n",
    "optimizer = torch.optim.Adam(model.parameters(), lr=0.0001)"
   ]
  },
  {
   "cell_type": "code",
   "execution_count": null,
   "metadata": {},
   "outputs": [],
   "source": [
    "def loss(prediction, label):\n",
    "    prediction = 0.999*prediction + 0.0005\n",
    "    return -torch.sum(label*torch.log(prediction) + (1-label)*torch.log(1-prediction))"
   ]
  },
  {
   "cell_type": "code",
   "execution_count": null,
   "metadata": {},
   "outputs": [],
   "source": [
    "model = train(model, optimizer, loss, dataset, device, epochs=15, batchSize=16)"
   ]
  },
  {
   "cell_type": "code",
   "execution_count": null,
   "metadata": {},
   "outputs": [],
   "source": [
    "torch.save(model, 'trained_models/abstract_image_discriminator.pkl')"
   ]
  },
  {
   "cell_type": "code",
   "execution_count": null,
   "metadata": {},
   "outputs": [],
   "source": [
    "randomSample = dataset[np.random.randint(len(dataset))]\n",
    "pilImage = torchvision.transforms.ToPILImage()(randomSample[0])\n",
    "plt.imshow(pilImage)\n",
    "plt.show()\n",
    "\n",
    "model.eval()\n",
    "prediction = model(torch.unsqueeze(randomSample[0], dim=0).to(device)).item()\n",
    "model.train()\n",
    "if prediction >= 0.5:\n",
    "    print(\"Predicted to be abstract with {:.2f}% probability\".format(prediction*100))\n",
    "else:\n",
    "    print(\"Predicted to be realistic with {:.2f}% probability\".format((1-prediction)*100))"
   ]
  }
 ],
 "metadata": {
  "kernelspec": {
   "display_name": "Python 3",
   "language": "python",
   "name": "python3"
  },
  "language_info": {
   "codemirror_mode": {
    "name": "ipython",
    "version": 3
   },
   "file_extension": ".py",
   "mimetype": "text/x-python",
   "name": "python",
   "nbconvert_exporter": "python",
   "pygments_lexer": "ipython3",
   "version": "3.8.3"
  }
 },
 "nbformat": 4,
 "nbformat_minor": 4
}
