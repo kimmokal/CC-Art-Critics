{
 "cells": [
  {
   "cell_type": "code",
   "execution_count": null,
   "metadata": {},
   "outputs": [],
   "source": [
    "%load_ext autoreload\n",
    "%autoreload 2"
   ]
  },
  {
   "cell_type": "code",
   "execution_count": null,
   "metadata": {},
   "outputs": [],
   "source": [
    "import torch\n",
    "import numpy as np\n",
    "import torchvision\n",
    "import matplotlib.pyplot as plt\n",
    "import gc\n",
    "from train import train\n",
    "from input_transformer import InputTransformer\n",
    "from pytorch_pretrained_biggan import BigGAN\n",
    "from input_noise_dataset import NoiseDataset"
   ]
  },
  {
   "cell_type": "code",
   "execution_count": null,
   "metadata": {},
   "outputs": [],
   "source": [
    "if torch.cuda.is_available():\n",
    "    device = torch.device(\"cuda\")\n",
    "else:\n",
    "    device = torch.device(\"cpu\")\n",
    "\n",
    "torch.set_printoptions(sci_mode=False)"
   ]
  },
  {
   "cell_type": "code",
   "execution_count": null,
   "metadata": {},
   "outputs": [],
   "source": [
    "torch.cuda.empty_cache()\n",
    "model = InputTransformer().to(device)\n",
    "torch.cuda.empty_cache()\n",
    "print(\"Number of parameters:\", model.getNumberOfParameters())"
   ]
  },
  {
   "cell_type": "code",
   "execution_count": null,
   "metadata": {},
   "outputs": [],
   "source": [
    "dataset = NoiseDataset()\n",
    "optimizer = torch.optim.Adam(model.parameters(), lr=0.0001)"
   ]
  },
  {
   "cell_type": "code",
   "execution_count": null,
   "metadata": {},
   "outputs": [],
   "source": [
    "biggan = BigGAN.from_pretrained('biggan-deep-512').to(device)\n",
    "torch.cuda.empty_cache()"
   ]
  },
  {
   "cell_type": "code",
   "execution_count": null,
   "metadata": {},
   "outputs": [],
   "source": [
    "if torch.cuda.is_available():\n",
    "    discriminator = torch.load(\"trained_models/abstract_image_discriminator.pkl\").to(device)\n",
    "    feedbackPredictor = torch.load(\"trained_models/feedback_predictor.pkl\").to(device)\n",
    "else:\n",
    "    discriminator = torch.load(\"trained_models/abstract_image_discriminator.pkl\", map_location=torch.device('cpu')).to(device)\n",
    "    feedbackPredictor = torch.load(\"trained_models/feedback_predictor.pkl\", map_location=torch.device('cpu')).to(device)\n",
    "torch.cuda.empty_cache()"
   ]
  },
  {
   "cell_type": "code",
   "execution_count": null,
   "metadata": {},
   "outputs": [],
   "source": [
    "def loss(prediction, label):\n",
    "    generatedImage = biggan(prediction[0], prediction[1], 0.99)\n",
    "    isAbstract = discriminator(generatedImage)\n",
    "    feedback = feedbackPredictor(generatedImage)\n",
    "    del generatedImage\n",
    "    gc.collect()\n",
    "    torch.cuda.empty_cache()\n",
    "    return torch.sum((1-isAbstract) + (1-(feedback/6)))"
   ]
  },
  {
   "cell_type": "code",
   "execution_count": null,
   "metadata": {},
   "outputs": [],
   "source": [
    "model = train(model, optimizer, loss, dataset, device, epochs=1, batchSize=1, countAccuracy=False)"
   ]
  },
  {
   "cell_type": "code",
   "execution_count": null,
   "metadata": {},
   "outputs": [],
   "source": [
    "torch.save(model, 'trained_models/input_transformer.pkl')"
   ]
  },
  {
   "cell_type": "code",
   "execution_count": null,
   "metadata": {},
   "outputs": [],
   "source": [
    "initialInput = dataset[0][0].to(device)\n",
    "transformedInput = model(initialInput)\n",
    "generatedImage = biggan(transformedInput[0], transformedInput[1], 0.99)\n",
    "isAbstract = discriminator(generatedImage).item()\n",
    "feedback = feedbackPredictor(generatedImage).item()\n",
    "pilImage = torchvision.transforms.ToPILImage()(torch.squeeze(generatedImage.cpu(), dim=0))\n",
    "del generatedImage\n",
    "gc.collect()\n",
    "torch.cuda.empty_cache()\n",
    "plt.imshow(pilImage)\n",
    "plt.show()\n",
    "\n",
    "print(\"Abstractness: {:.2f}\".format(isAbstract))\n",
    "print(\"Feedback: {:.2f}\".format(feedback))"
   ]
  }
 ],
 "metadata": {
  "kernelspec": {
   "display_name": "Python 3",
   "language": "python",
   "name": "python3"
  },
  "language_info": {
   "codemirror_mode": {
    "name": "ipython",
    "version": 3
   },
   "file_extension": ".py",
   "mimetype": "text/x-python",
   "name": "python",
   "nbconvert_exporter": "python",
   "pygments_lexer": "ipython3",
   "version": "3.8.3"
  }
 },
 "nbformat": 4,
 "nbformat_minor": 4
}
